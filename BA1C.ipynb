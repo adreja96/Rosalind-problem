{
  "nbformat": 4,
  "nbformat_minor": 0,
  "metadata": {
    "colab": {
      "provenance": []
    },
    "kernelspec": {
      "name": "python3",
      "display_name": "Python 3"
    },
    "language_info": {
      "name": "python"
    }
  },
  "cells": [
    {
      "cell_type": "code",
      "execution_count": null,
      "metadata": {
        "colab": {
          "base_uri": "https://localhost:8080/"
        },
        "id": "5TfkoxWZHXPa",
        "outputId": "8b7025e9-e2ca-47fb-f0b2-a6fdcf88d6e6"
      },
      "outputs": [
        {
          "output_type": "stream",
          "name": "stdout",
          "text": [
            "ACATGCCACATGCCGCACATGCCACATGCCACATGCCGACATGCCGGGGCGGAGTACATGCCACATGCCACATGCCGACATGCCACATGCCTGACATGCCACATGCCGGTCGCGACATGCCACCACATGCCTCACATGCCTTGGCACATGCCTACATGCCTTCAGACATGCCACATGCCACACATGCCGACATGCCACATGCCCGGACATGCCCTACATGCCACATGCCGCCACATGCCTCTGGACATGCCTACATGCCCCACATGCCACATGCCACTTCTAGCCGACATGCCTCAACATGCCTGTAGAAGCTACATGCCGACATGCCGACATGCCACATGCCACATGCCTGTTACATGCCCGCACATGCCAGAAATTCAACATGCCTGAGACATGCCCGAACATGCCGTTTTTGACATGCCGGGCACATGCCCACCGGTGGACATGCCAACATGCCACATGCCTACGGCCACATGCCGACATGCCACATGCCATACATGCCTTCATATACATGCCACATGCCTGGTCCGACATGCCTGGATACATGCCCAAGCCCTCACATGCCGGTGTCGGCACATGCCTGACATGCCAAACATGCCGACATGCCAACATGCCACATGCCTAATAATTTAACAAACACATGCCACATGCCGACATGCCCGTACATGCCTAACATGCCCACATGCCGGAGACATGCCCACATGCCACATGCCACATGCCCCGACATGCCAGCGACATGCCTAACATGCCGCCCACGTCCCCTGAGACATGCCCTAGAAACATGCCTATGACATGCCCGAACATGCCACATGCCTATACATGCCGATATACATGCCTTGTCCAGAGTGACATGCCAAGACGGGAGTACATGCCCACATGCCCCACATGCCCACATGCCACATGCCACACATGCCTGTCATACATGCCACATGCCACATGCCTGACATGCCGGACATGCCTACATGCC\n",
            "ACATGCCAC\n",
            "28\n"
          ]
        }
      ],
      "source": [
        "s = input()\n",
        "pattern = input()\n",
        "cnt = 0;\n",
        "ans = \"\"\n",
        "for x in range (len(s)):\n",
        "    ans += s[x]\n",
        "    if ans == pattern:\n",
        "        cnt += 1\n",
        "    if len(ans) == len(pattern):\n",
        "        ans = ans[1:]\n",
        "print(cnt)"
      ]
    }
  ]
}